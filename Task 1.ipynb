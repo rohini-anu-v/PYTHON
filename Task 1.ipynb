{
 "cells": [
  {
   "cell_type": "code",
   "execution_count": 1,
   "id": "98c662d0",
   "metadata": {},
   "outputs": [
    {
     "name": "stdout",
     "output_type": "stream",
     "text": [
      "5\n",
      "number is odd\n"
     ]
    }
   ],
   "source": [
    "# Given input is even or odd\n",
    "\n",
    "n=int(input())\n",
    "if n%2==0:\n",
    "    print(\"number is even\")\n",
    "else:\n",
    "    print(\"number is odd\")"
   ]
  },
  {
   "cell_type": "code",
   "execution_count": 2,
   "id": "745ccc4a",
   "metadata": {},
   "outputs": [
    {
     "name": "stdout",
     "output_type": "stream",
     "text": [
      "47.68 Celsius is equivalent to 117.82 Fahrenhit\n"
     ]
    }
   ],
   "source": [
    "# covert celsius to fahrenhit\n",
    "\n",
    "celsius=47.68\n",
    "fahrenhit=(celsius*1.8)+32\n",
    "print(\"%.2f Celsius is equivalent to %.2f Fahrenhit\" %(celsius,fahrenhit))"
   ]
  },
  {
   "cell_type": "code",
   "execution_count": 3,
   "id": "421232bd",
   "metadata": {},
   "outputs": [
    {
     "name": "stdout",
     "output_type": "stream",
     "text": [
      "enter a number:5\n",
      "enter a real number:5.5\n",
      "enter a real number:6\n",
      "enter a real number:7.0\n",
      "enter a real number:2.5\n",
      "enter a real number:1.1\n",
      "product of real number: 635.25\n"
     ]
    }
   ],
   "source": [
    "# product of a real number\n",
    "\n",
    "i=0\n",
    "p=1\n",
    "count=int(input(\"enter a number:\"))\n",
    "for i in range(count):\n",
    "    x=float(input(\"enter a real number:\"))\n",
    "    p=p*x\n",
    "print(\"product of real number:\",p)    "
   ]
  },
  {
   "cell_type": "code",
   "execution_count": 4,
   "id": "148177e7",
   "metadata": {},
   "outputs": [
    {
     "name": "stdout",
     "output_type": "stream",
     "text": [
      "enter a number:5\n",
      "factorial of 5 is: 120\n"
     ]
    }
   ],
   "source": [
    "# factorial of number using recursion\n",
    "def fact(n):\n",
    "    if n==1:\n",
    "        f=1\n",
    "    else:\n",
    "        f=n*fact(n-1)\n",
    "    return f\n",
    "num=int(input(\"enter a number:\"))\n",
    "result=fact(num)\n",
    "print(\"factorial of\",num,\"is:\",result)\n"
   ]
  },
  {
   "cell_type": "code",
   "execution_count": 5,
   "id": "4d9fdedc",
   "metadata": {},
   "outputs": [
    {
     "name": "stdout",
     "output_type": "stream",
     "text": [
      "element found at index 5\n"
     ]
    }
   ],
   "source": [
    "#linear search\n",
    "\n",
    "def linear_search (array,n):\n",
    "    for i in range(len (array)):\n",
    "        if array[i]==n:\n",
    "            return i\n",
    "    return -1\n",
    "array=[\"h\",\"a\",\"p\",\"p\",\"y\",\"b\",\"i\",\"r\",\"t\",\"h\",\"d\",\"a\",\"y\"]\n",
    "n=\"b\"\n",
    "print(\"element found at index\",str(linear_search (array,n)))"
   ]
  },
  {
   "cell_type": "code",
   "execution_count": 6,
   "id": "fc40f5c7",
   "metadata": {},
   "outputs": [
    {
     "name": "stdout",
     "output_type": "stream",
     "text": [
      "number found at a index 6\n"
     ]
    }
   ],
   "source": [
    "#BINARY SEARCH\n",
    "\n",
    "def binary_search(number,low ,high,x):\n",
    "    if high>=low :\n",
    "        mid=(low+high)//2\n",
    "        if(number[mid]==x):\n",
    "            return mid\n",
    "        elif(number[mid]>x):\n",
    "            return binary_search(number,low ,mid-1,x)\n",
    "        else:\n",
    "            return binary_search(number,mid+1,high,x)\n",
    "    else:\n",
    "        return -1\n",
    "number=[1,4,6,7,12,17,25]\n",
    "x=25\n",
    "result=binary_search(number,0,len(number)-1,x)\n",
    "if (result!= -1):\n",
    "    print(\"number found at a index\",result)\n",
    "else:\n",
    "        print(\"number is not present in a array\")"
   ]
  },
  {
   "cell_type": "code",
   "execution_count": 7,
   "id": "e351d84f",
   "metadata": {},
   "outputs": [
    {
     "name": "stdout",
     "output_type": "stream",
     "text": [
      "largest element in a list: 346\n"
     ]
    }
   ],
   "source": [
    "#LARGEST NUMBER IN A LIST\n",
    "\n",
    "def max_list(a):\n",
    "    max=a[0]\n",
    "    for x in a:\n",
    "        if x>max:\n",
    "            max=x\n",
    "    return max\n",
    "a=[10,346,68,102,34]\n",
    "print(\"largest element in a list:\",max_list(a))\n",
    "    "
   ]
  },
  {
   "cell_type": "code",
   "execution_count": 8,
   "id": "480b5248",
   "metadata": {},
   "outputs": [
    {
     "data": {
      "text/plain": [
       "['a', 'b', 'c', 'e']"
      ]
     },
     "execution_count": 8,
     "metadata": {},
     "output_type": "execute_result"
    }
   ],
   "source": [
    "# DELETE A NUMBER BY INDEX\n",
    "\n",
    "li=[\"a\",\"b\",\"c\",\"d\",\"e\"]\n",
    "li.pop(3)\n",
    "li"
   ]
  },
  {
   "cell_type": "code",
   "execution_count": 9,
   "id": "d3122592",
   "metadata": {},
   "outputs": [
    {
     "data": {
      "text/plain": [
       "dict_items([('karnataka', 'bangalore'), ('tamil nadu', 'chennai'), ('andhra pradesh', 'hyderabad,')])"
      ]
     },
     "execution_count": 9,
     "metadata": {},
     "output_type": "execute_result"
    }
   ],
   "source": [
    "#PRINT ALL ITEMS IN A DICTIONARY\n",
    "\n",
    "a={\"karnataka\":\"bangalore\",\"tamil nadu\":\"chennai\",\"andhra pradesh\":\"hyderabad,\"}\n",
    "a.items()"
   ]
  },
  {
   "cell_type": "code",
   "execution_count": 11,
   "id": "1474c432",
   "metadata": {},
   "outputs": [
    {
     "name": "stdout",
     "output_type": "stream",
     "text": [
      "5\n",
      "6\n",
      "7\n",
      "8\n",
      "9\n",
      "10\n",
      "11\n",
      "5\n",
      "6\n",
      "7\n",
      "average of a number is: 7.4\n"
     ]
    }
   ],
   "source": [
    "#average of a number using while loop\n",
    "\n",
    "count=0\n",
    "sum=0\n",
    "while count<10 :\n",
    "    number=float(input())\n",
    "    count=count+1\n",
    "    sum=sum+number\n",
    "average=sum/10\n",
    "print(\"average of a number is:\",average )"
   ]
  },
  {
   "cell_type": "code",
   "execution_count": null,
   "id": "8960ad09",
   "metadata": {},
   "outputs": [],
   "source": []
  }
 ],
 "metadata": {
  "kernelspec": {
   "display_name": "Python 3",
   "language": "python",
   "name": "python3"
  },
  "language_info": {
   "codemirror_mode": {
    "name": "ipython",
    "version": 3
   },
   "file_extension": ".py",
   "mimetype": "text/x-python",
   "name": "python",
   "nbconvert_exporter": "python",
   "pygments_lexer": "ipython3",
   "version": "3.8.8"
  }
 },
 "nbformat": 4,
 "nbformat_minor": 5
}
